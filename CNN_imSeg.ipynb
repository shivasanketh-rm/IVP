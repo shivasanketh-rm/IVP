{
  "nbformat": 4,
  "nbformat_minor": 0,
  "metadata": {
    "kernelspec": {
      "name": "python3",
      "display_name": "Python 3"
    },
    "language_info": {
      "codemirror_mode": {
        "name": "ipython",
        "version": 3
      },
      "file_extension": ".py",
      "mimetype": "text/x-python",
      "name": "python",
      "nbconvert_exporter": "python",
      "pygments_lexer": "ipython3",
      "version": "3.7.4"
    },
    "colab": {
      "name": "CNN_imSeg.ipynb",
      "provenance": []
    },
    "accelerator": "GPU"
  },
  "cells": [
    {
      "cell_type": "markdown",
      "metadata": {
        "id": "iAdCIrsedqly",
        "colab_type": "text"
      },
      "source": [
        "# COMPUTER ASSIGNMENT 04\n"
      ]
    },
    {
      "cell_type": "markdown",
      "metadata": {
        "id": "fcf-3LDSdql0",
        "colab_type": "text"
      },
      "source": [
        "## U-net for image segmentation\n",
        "\n",
        "In class, we talked about U-net for image segmentation. This assignment is intended to \n",
        "- help you better understand the concept of U-net for image segmentation \n",
        "- help you get started with designing networks in pytorch including loading data, network design, loss function, training and testing.\n",
        "\n",
        "For this assignment, you will attempt to segment car images, which is a challenge hosted on [Kaggle](https://www.kaggle.com/c/carvana-image-masking-challenge/data).  The original data is available on the Kaggle website. We have extracted a small part of the dataset and uploaded it to the following link \n",
        "\n",
        "https://drive.google.com/open?id=1gVSDa3eAJQ3DcSLVuQRYBgdxVhFvXEbR\n",
        "\n",
        "You should create a folder 'data/' in the current folder.\n",
        "\n",
        "Then download train, train_mask, test dataset from the above link and extract them to 'data/'.\n",
        "\n",
        "Or you can download the whole dataset from [Kaggle website](https://www.kaggle.com/c/carvana-image-masking-challenge/data).\n",
        "\n",
        "Let's first take a look at the images in the training dataset\n",
        "<img src=\"00087a6bd4dc_01.jpg\" width=\"200\" height=\"200\" />\n",
        " \n",
        " Each image in the training dataset has a corresponding mask\n",
        "<img src=\"00087a6bd4dc_01_mask.gif\" width=\"200\" height=\"200\" />\n",
        "\n",
        "\n",
        "You should \n",
        " -  Implement the U-net of the following architechure.\n",
        " ![U-net](UNet_Diagram.png)\n",
        " -  Write function dice_coeff(input, target) for evaluation\n",
        " -  Load training dataset and testing dataset.\n",
        " Notice that you should rescale the images to a smaller size (for example 80x100). Otherwise it takes too long to train on cpu.\n",
        " -  Train your network for a few epochs.\n",
        " -  Test your model by feeding in a new image in testing dataset. Plot your result."
      ]
    },
    {
      "cell_type": "code",
      "metadata": {
        "id": "aoJ9ZQj6dql1",
        "colab_type": "code",
        "colab": {}
      },
      "source": [
        "import torch\n",
        "import torch.nn as nn\n",
        "import torch.nn.functional as F\n",
        "import random\n",
        "import sys\n",
        "import os\n",
        "from optparse import OptionParser\n",
        "import numpy as np\n",
        "from torch import optim\n",
        "from PIL import Image\n",
        "from torch.autograd import Function, Variable\n",
        "import matplotlib.pyplot as plt\n",
        "import matplotlib\n",
        "from torchvision import transforms\n",
        "import glob\n",
        "from tqdm import tqdm\n",
        "import pickle\n",
        "from torch.utils.data import Dataset\n",
        "%matplotlib inline\n",
        "import cv2"
      ],
      "execution_count": 0,
      "outputs": []
    },
    {
      "cell_type": "code",
      "metadata": {
        "id": "zqmATLArdql8",
        "colab_type": "code",
        "outputId": "c1089ee2-39a3-48df-f1dc-205a3782fb32",
        "colab": {
          "base_uri": "https://localhost:8080/",
          "height": 35
        }
      },
      "source": [
        "device = torch.device(\"cuda:0\" if torch.cuda.is_available() else \"cpu\")\n",
        "print(device)"
      ],
      "execution_count": 7,
      "outputs": [
        {
          "output_type": "stream",
          "text": [
            "cuda:0\n"
          ],
          "name": "stdout"
        }
      ]
    },
    {
      "cell_type": "markdown",
      "metadata": {
        "id": "h6Ke8uEedqmB",
        "colab_type": "text"
      },
      "source": [
        "### [ TODO 1 ] First define following layers to be used later\n",
        "- **Conv2d + BatchNorm2d + ReLu** as **single_conv layer** ,\n",
        "- **down layer**: use **Maxpool2d** to downsample by a factor of 2\n",
        "- **up layer**: takes two inputs of different dimensions. First use **nn.Upsample** to upsample the smaller input to be the same size as the larger, then **concatenate** the two along the channel dimension\n",
        "-  **outconv layer**: **Conv2d** followed by **sigmoid activation** to generate probability for each pixel\n",
        "\n",
        "You can check out the documentation in this link to understand how to use the methods called in the provided template:\n",
        "\n",
        " https://pytorch.org/docs/stable/nn.html\n"
      ]
    },
    {
      "cell_type": "code",
      "metadata": {
        "id": "8jO5ykF6dqmC",
        "colab_type": "code",
        "colab": {}
      },
      "source": [
        "################################################ [TODO] ###################################################\n",
        "# DEFINE SINGLE_CONV CLASS\n",
        "class single_conv(nn.Module):\n",
        "    '''(conv => BN => ReLU) '''\n",
        "    def __init__(self, in_ch, out_ch):\n",
        "        super(single_conv, self).__init__()\n",
        "        # Define the layers here\n",
        "        # Note: for conv, use a padding of (1,1) so that size is maintained\n",
        "        self.conv = nn.Conv2d(in_ch, out_ch, kernel_size= 3, padding = (1,1))\n",
        "        self.bn = nn.BatchNorm2d(out_ch)\n",
        "        self.relu = nn.ReLU()\n",
        "        \n",
        "    def forward(self, x):\n",
        "        # define forward operation using the layers we have defined\n",
        "        x = self.conv(x)\n",
        "        x = self.bn(x)\n",
        "        x = self.relu(x)\n",
        "        return x\n",
        "\n",
        "################################################ [TODO] ###################################################\n",
        "# DEFINE DOWN CLASS\n",
        "class down(nn.Module):\n",
        "    def __init__(self):\n",
        "        super(down, self).__init__()\n",
        "        self.down = nn.MaxPool2d(2,2)\n",
        "        \n",
        "    def forward(self, x):\n",
        "        x = self.down(x)\n",
        "        return x\n",
        "\n",
        "################################################ [TODO] ###################################################\n",
        "# DEFINE UP CLASS\n",
        "# Note that this class will not only upsample x1, but also concatenate up-sampled x1 with x2 to generate the final output\n",
        "\n",
        "class up(nn.Module):\n",
        "    def __init__(self):\n",
        "        super(up, self).__init__()       \n",
        "        self.up = nn.Upsample(scale_factor=2, mode='bilinear')\n",
        "    def forward(self, x1, x2): # Takes in smaller x1 and larger x2\n",
        "        # First we upsample x1 to be same size as x2\n",
        "        x1 = self.up(x1)\n",
        "        \n",
        "        # This part is tricky so we've completed this\n",
        "        # Notice that x2 and x1 may not have the same spatial size. \n",
        "        # This is because when you downsample old_x2(say 25 by 25), you will get x1(12 by 12)   \n",
        "        # Then you perform upsample to x1, you will get new_x1(24 by 24)\n",
        "        # You should pad a new row and column so that new_x1 and x2 have the same size.\n",
        "        diffY = x2.size()[2] - x1.size()[2]\n",
        "        diffX = x2.size()[3] - x1.size()[3]\n",
        "        x1 = F.pad(x1, (diffX // 2, diffX - diffX//2,\n",
        "                        diffY // 2, diffY - diffY//2))\n",
        "        \n",
        "        # Now we concatenat x2 and x1 along channel dimension: torch.cat()\n",
        "        # Note pytorch tensor shape correspond to: (batchsize, channel, x_dim, y_dim)\n",
        "        x = torch.cat([x1, x2], dim=1)\n",
        "        \n",
        "        return x\n",
        "\n",
        "################################################ [TODO] ###################################################\n",
        "# DEFINE OUTCONV CLASS\n",
        "class outconv(nn.Module):\n",
        "    def __init__(self, in_ch, out_ch):\n",
        "        super(outconv, self).__init__()\n",
        "        # 1 conv layer\n",
        "        self.conv = nn.Conv2d(in_ch, out_ch, kernel_size=2, padding=1)\n",
        "\n",
        "    def forward(self, x):\n",
        "        x = self.conv(x)\n",
        "        # Apply sigmoid activation: torch.sigmoid()\n",
        "        x = torch.sigmoid(x)\n",
        "        return x\n",
        "    "
      ],
      "execution_count": 0,
      "outputs": []
    },
    {
      "cell_type": "code",
      "metadata": {
        "id": "mFZTiscKdqmJ",
        "colab_type": "code",
        "colab": {}
      },
      "source": [
        "################################################ [TODO] ###################################################\n",
        "# Build your network with predefined classes: single_conv, up, down, outconv\n",
        "# The number of input and output channels should follow the U-Net Structure shown above.\n",
        "import torch.nn.functional as F\n",
        "class UNet(nn.Module):\n",
        "    def __init__(self, n_channels_in, n_channels_out):\n",
        "        super(UNet, self).__init__()\n",
        "        ## Define the necessary layers using the classes defined above\n",
        "        self.conv1 = single_conv(n_channels_in, 16)\n",
        "        self.downSampled1 = down()\n",
        "        self.conv2 = single_conv(16, 32)\n",
        "        self.downSampled2 = down()\n",
        "        self.conv3 = single_conv(32, 32)\n",
        "        self.upSampled1 = up()\n",
        "        self.conv4 = single_conv(64, 16)\n",
        "        self.upSampled2 = up()\n",
        "        self.conv5 = single_conv(32, 16)\n",
        "        self.conv6 = outconv(16, n_channels_out)\n",
        "\n",
        "        \n",
        "\n",
        "    def forward(self, x):\n",
        "        # Define forward pass\n",
        "        x = self.conv1(x)\n",
        "        concat_top = x\n",
        "        x = self.downSampled1(x)\n",
        "        x = self.conv2(x)\n",
        "        concat_bot = x\n",
        "  \n",
        "        x = self.downSampled2(x)\n",
        "        x = self.conv3(x)\n",
        "        \n",
        "        x = self.upSampled1(concat_bot, x)\n",
        "        x = self.conv4(x)\n",
        "        \n",
        "        x = self.upSampled2(concat_top, x)\n",
        "        \n",
        "        x = self.conv5(x)\n",
        "        x = self.conv6(x)        \n",
        "        \n",
        "        \n",
        "        return x\n",
        "    "
      ],
      "execution_count": 0,
      "outputs": []
    },
    {
      "cell_type": "markdown",
      "metadata": {
        "id": "gw0zAJ1ZdqmP",
        "colab_type": "text"
      },
      "source": [
        "### [ TODO 2 ] Define evaulation function:\n",
        "Dice coefficient is defined as \n",
        "![dice.png](dice.png)\n",
        "For the case of evaluating a Dice coefficient on predicted segmentation masks, we can approximate intersection of A and B as the element-wise multiplication between the prediction and target mask, and then sum the resulting matrix.\n",
        "\n",
        "In order to quantify the area of A union B, some researchers use the simple sum whereas other researchers prefer to use the squared sum for this calculation. You can use either way.\n",
        "\n"
      ]
    },
    {
      "cell_type": "code",
      "metadata": {
        "id": "jYgYn8_gdqmQ",
        "colab_type": "code",
        "colab": {}
      },
      "source": [
        "################################################ [TODO] ###################################################\n",
        "# define dice coefficient \n",
        "class DiceCoeff(Function):\n",
        "    \"\"\"Dice coeff for one pair of input image and target image\"\"\"\n",
        "    def forward(self, prediction, target):\n",
        "        self.save_for_backward(prediction, target)\n",
        "        eps = 0.0001 # in case union = 0\n",
        "        ################################################ [TODO] ###################################################\n",
        "        # Calculate intersection and union. \n",
        "        # You can convert a tensor into a vector with tensor.contiguous().view(-1)\n",
        "        # Then use torch.dot(A, B) to calculate the intersection.\n",
        "        A = target.contiguous().view(-1)\n",
        "        B = prediction.contiguous().view(-1)\n",
        "        self.inter = torch.dot(A, B)\n",
        "        self.union = A.sum() + B.sum() + eps\n",
        "        # Calculate DICE \n",
        "        d = self.inter / self.union\n",
        "        return d\n",
        "\n",
        "\n",
        "################################################ [TODO] ###################################################\n",
        "# Calculate dice coefficients for batches\n",
        "def dice_coeff(prediction, target):\n",
        "    \"\"\"Dice coeff for batches\"\"\"\n",
        "    s = torch.FloatTensor(1).zero_()\n",
        "    \n",
        "    # For each pair of input and target, call DiceCoeff().forward(prediction, target) to calculate dice coefficient\n",
        "    # Then calculate average over all pairs\n",
        "    for i, (a,b) in enumerate(zip(prediction, target)):\n",
        "        s = s + DiceCoeff().forward(a, b)\n",
        "    s = s / (i + 1)\n",
        "    return s\n"
      ],
      "execution_count": 0,
      "outputs": []
    },
    {
      "cell_type": "markdown",
      "metadata": {
        "id": "3oEM4JBLdqmW",
        "colab_type": "text"
      },
      "source": [
        "### Load images and masks\n",
        "\n",
        "Load training imagse, normalize and resize them into smaller size so that you can perform training using a CPU. Split them into training and validation. Validation percent of 0.05 means 5% of training dataset is used as validation. In order to avoid repeated data preprocessing, we use the pickle tool to save the processed data.\n",
        "\n",
        "This part has been done for you. But please read through so that you learn the general processing steps."
      ]
    },
    {
      "cell_type": "code",
      "metadata": {
        "id": "OD05JVNqdqmX",
        "colab_type": "code",
        "colab": {}
      },
      "source": [
        "# try to split the whole train dataset into train and validation, and match the train image path with the \n",
        "# corresponding label path\n",
        "def split_train_val(image_paths, mask_paths, train_size):\n",
        "    img_paths_dic = {}\n",
        "    mask_paths_dic = {}\n",
        "    len_data = len(image_paths)\n",
        "    print('total len:', len_data)\n",
        "    for i in range(len(image_paths)):\n",
        "        img_paths_dic[os.path.basename(image_paths[i])[:-4]] = image_paths[i]\n",
        "\n",
        "    for i in range(len(mask_paths)):\n",
        "        mask_paths_dic[os.path.basename(mask_paths[i])[:-9]] = mask_paths[i]\n",
        "        \n",
        "    img_mask_list = []\n",
        "    for key in img_paths_dic:\n",
        "        img_mask_list.append((img_paths_dic[key], mask_paths_dic[key]))\n",
        "        \n",
        "    train_img_mask_paths = img_mask_list[:int(len_data*train_size)] \n",
        "    val_img_mask_paths = img_mask_list[int(len_data*train_size):]\n",
        "    return train_img_mask_paths, val_img_mask_paths\n",
        "\n",
        "# read in the image and label pair, and then resize them from 1280*1918 to 80*100 by consideration of \n",
        "# your computer memory limitation\n",
        "def preprocess_image(image_mask_paths):\n",
        "    img_mask_list = []\n",
        "    new_h, new_w = 80, 100\n",
        "    \n",
        "    for i in tqdm(range(len(image_mask_paths))):\n",
        "        # cv2 cannot read .gif files\n",
        "        # Use Image.open() to open image and mask, then convert them to np arrays\n",
        "        # For images use float32, mask use uint8\n",
        "        # Normalize img to range (0,1)\n",
        "        img = np.array(Image.open(image_mask_paths[i][0]), np.float32) / 255.0 \n",
        "        mask = np.array(Image.open(image_mask_paths[i][1]), np.uint8)\n",
        "        \n",
        "        # Use cv2 to resize images to 80x100, use INTER_CUBIC interpolation\n",
        "        img_resize = cv2.resize(img, dsize=(new_w, new_h), interpolation=cv2.INTER_CUBIC)\n",
        "        mask_resize = np.uint8(cv2.resize(mask, dsize=(new_w, new_h), interpolation=cv2.INTER_CUBIC))\n",
        "        \n",
        "        img_mask_list.append((img_resize, mask_resize))\n",
        "    return img_mask_list\n",
        "\n",
        "# save the data into pickle file and you can just reload this file, which can help you avoid reading the image\n",
        "# file again in the future, since reading in image file from hard drive would take quite a long time\n",
        "def pickle_store(file_name,save_data):\n",
        "    fileObj = open(file_name,'wb')\n",
        "    pickle.dump(save_data,fileObj)\n",
        "    fileObj.close()"
      ],
      "execution_count": 0,
      "outputs": []
    },
    {
      "cell_type": "code",
      "metadata": {
        "id": "6_Jt5bGCNcOA",
        "colab_type": "code",
        "colab": {}
      },
      "source": [
        "!unzip data"
      ],
      "execution_count": 0,
      "outputs": []
    },
    {
      "cell_type": "code",
      "metadata": {
        "id": "Oo8HyHMNdqmc",
        "colab_type": "code",
        "colab": {
          "base_uri": "https://localhost:8080/",
          "height": 87
        },
        "outputId": "211f7990-d090-4bdc-b5e1-0091e616ed62"
      },
      "source": [
        "# get all the image and mask path and number of images\n",
        "image_paths = glob.glob(\"train/*.jpg\")\n",
        "mask_paths = glob.glob(\"train_masks/*.gif\")\n",
        "\n",
        "# split these path using a certain percentage\n",
        "train_size = 0.95\n",
        "print('original image shape: {}'.format(np.array(Image.open(image_paths[0])).shape))\n",
        "print('orginal mask shape: {}'.format(np.array(Image.open(mask_paths[0])).shape))\n",
        "\n",
        "train_img_mask_paths, val_img_mask_paths = split_train_val(image_paths, mask_paths, train_size)\n",
        "\n",
        "print('train len: {}, val len: {}'.format(len(train_img_mask_paths),len(val_img_mask_paths)))"
      ],
      "execution_count": 20,
      "outputs": [
        {
          "output_type": "stream",
          "text": [
            "original image shape: (1280, 1918, 3)\n",
            "orginal mask shape: (1280, 1918)\n",
            "total len: 5088\n",
            "train len: 4833, val len: 255\n"
          ],
          "name": "stdout"
        }
      ]
    },
    {
      "cell_type": "code",
      "metadata": {
        "id": "DdYfkzb0dqmi",
        "colab_type": "code",
        "colab": {
          "base_uri": "https://localhost:8080/",
          "height": 52
        },
        "outputId": "3766685c-14de-4a73-cfd5-57e0d43525ad"
      },
      "source": [
        "## This part preprocess the images and save them to pickle files.\n",
        "## If the pickle file already exists, this part will not run\n",
        "## IMPORTANT: If you made any change to the prepreprocess function, \n",
        "## you need to delete the pickle files before you rerun this part\n",
        "train_img_masks_save_path = './train_img_masks.pickle'\n",
        "if os.path.exists(train_img_masks_save_path):\n",
        "    with open(train_img_masks_save_path,'rb') as f:\n",
        "        train_img_masks = pickle.load(f)\n",
        "    f.close()\n",
        "else:\n",
        "    train_img_masks = preprocess_image(train_img_mask_paths)\n",
        "    pickle_store(train_img_masks_save_path,train_img_masks)\n",
        "print('train len: {}'.format(len(train_img_masks)))"
      ],
      "execution_count": 24,
      "outputs": [
        {
          "output_type": "stream",
          "text": [
            "100%|██████████| 4833/4833 [04:21<00:00, 18.45it/s]\n"
          ],
          "name": "stderr"
        },
        {
          "output_type": "stream",
          "text": [
            "train len: 4833\n"
          ],
          "name": "stdout"
        }
      ]
    },
    {
      "cell_type": "code",
      "metadata": {
        "id": "lMwtFTondqmm",
        "colab_type": "code",
        "colab": {
          "base_uri": "https://localhost:8080/",
          "height": 52
        },
        "outputId": "3f6a29e5-3d83-4262-957f-2b4f756b3807"
      },
      "source": [
        "val_img_masks_save_path = './val_img_masks.pickle'\n",
        "if os.path.exists(val_img_masks_save_path):\n",
        "    with open(val_img_masks_save_path,'rb') as f:\n",
        "        val_img_masks = pickle.load(f)\n",
        "    f.close()\n",
        "else:\n",
        "    val_img_masks = preprocess_image(val_img_mask_paths)\n",
        "    pickle_store(val_img_masks_save_path,val_img_masks)\n",
        "print('val len: {}'.format(len(val_img_masks)))"
      ],
      "execution_count": 25,
      "outputs": [
        {
          "output_type": "stream",
          "text": [
            "100%|██████████| 255/255 [00:14<00:00, 17.38it/s]\n"
          ],
          "name": "stderr"
        },
        {
          "output_type": "stream",
          "text": [
            "val len: 255\n"
          ],
          "name": "stdout"
        }
      ]
    },
    {
      "cell_type": "code",
      "metadata": {
        "id": "KQLDiprfdqmq",
        "colab_type": "code",
        "colab": {
          "base_uri": "https://localhost:8080/",
          "height": 299
        },
        "outputId": "0fca6c65-098e-4208-85f8-242908b5b126"
      },
      "source": [
        "#### Let us display some of the images to make sure the data loading and processing is correct.\n",
        "### the original size of the image is: 1280*1918, but we resize the image to 80*100 for \n",
        "### training the segmentation network\n",
        "img_num = 5\n",
        "plt.imshow(train_img_masks[img_num][0])\n",
        "plt.title(\"sample image\")\n",
        "plt.show()"
      ],
      "execution_count": 26,
      "outputs": [
        {
          "output_type": "stream",
          "text": [
            "Clipping input data to the valid range for imshow with RGB data ([0..1] for floats or [0..255] for integers).\n"
          ],
          "name": "stderr"
        },
        {
          "output_type": "display_data",
          "data": {
            "image/png": "[encoded data removed]",
            "text/plain": [
              "<Figure size 432x288 with 1 Axes>"
            ]
          },
          "metadata": {
            "tags": [],
            "needs_background": "light"
          }
        }
      ]
    },
    {
      "cell_type": "code",
      "metadata": {
        "id": "mtMdj20Kdqmv",
        "colab_type": "code",
        "colab": {
          "base_uri": "https://localhost:8080/",
          "height": 281
        },
        "outputId": "7d831ad5-c6b4-4b57-f205-64aeb61e32ba"
      },
      "source": [
        "plt.imshow(train_img_masks[img_num][1], cmap='gray')\n",
        "plt.title(\"ground true segmentation\")\n",
        "plt.show()"
      ],
      "execution_count": 27,
      "outputs": [
        {
          "output_type": "display_data",
          "data": {
            "image/png": "[encoded data removed]",
            "text/plain": [
              "<Figure size 432x288 with 1 Axes>"
            ]
          },
          "metadata": {
            "tags": [],
            "needs_background": "light"
          }
        }
      ]
    },
    {
      "cell_type": "markdown",
      "metadata": {
        "id": "zZDj3TBqdqm2",
        "colab_type": "text"
      },
      "source": [
        "### Create datasets in the format that you can later use Torch  \"DataLoader\" during training and define  data augmentation "
      ]
    },
    {
      "cell_type": "code",
      "metadata": {
        "id": "TOIj3zgAdqm3",
        "colab_type": "code",
        "colab": {}
      },
      "source": [
        "#### define transform classes for  data augmentation\n",
        "class Flip(object):\n",
        "    \"\"\"\n",
        "    Flip the image left or right for data augmentation, but prefer original image.\n",
        "    \"\"\"\n",
        "    def __init__(self,ori_probability=0.60):\n",
        "        self.ori_probability = ori_probability\n",
        " \n",
        "    def __call__(self, sample):\n",
        "        if random.uniform(0,1) < self.ori_probability:\n",
        "            return sample\n",
        "        else:\n",
        "            img, label = sample['img'], sample['label']\n",
        "            img_flip = img[:,:,::-1]\n",
        "            label_flip = label[:,::-1]\n",
        "            \n",
        "            return {'img': img_flip, 'label': label_flip}\n",
        "        \n",
        "class ToTensor(object):\n",
        "    \"\"\"\n",
        "    Convert ndarrays in sample to Tensors.\n",
        "    \"\"\"\n",
        "    def __init__(self):\n",
        "        pass\n",
        "\n",
        "    def __call__(self, sample):\n",
        "        image, label = sample['img'], sample['label']\n",
        "\n",
        "        return {'img': torch.from_numpy(image.copy()).type(torch.FloatTensor),\n",
        "                'label': torch.from_numpy(label.copy()).type(torch.FloatTensor)}"
      ],
      "execution_count": 0,
      "outputs": []
    },
    {
      "cell_type": "code",
      "metadata": {
        "id": "Dz_YAcXddqm7",
        "colab_type": "code",
        "colab": {}
      },
      "source": [
        "# the dataset class\n",
        "class CustomDataset(Dataset):\n",
        "    def __init__(self, image_masks, transforms=None): \n",
        "\n",
        "        self.image_masks = image_masks\n",
        "        self.transforms = transforms\n",
        "    \n",
        "    def __len__(self):  # return count of sample we have\n",
        "\n",
        "        return len(self.image_masks)\n",
        "    \n",
        "    def __getitem__(self, index):\n",
        "\n",
        "        image = self.image_masks[index][0] # H, W, C\n",
        "        mask = self.image_masks[index][1]\n",
        "        \n",
        "        image = np.transpose(image, axes=[2, 0, 1]) # C, H, W\n",
        "        \n",
        "        sample = {'img': image, 'label': mask}\n",
        "        \n",
        "        if transforms:\n",
        "            sample = self.transforms(sample)\n",
        "            \n",
        "        return sample\n",
        "\n",
        "train_dataset = CustomDataset(train_img_masks, transforms=transforms.Compose([Flip(),ToTensor()]))\n",
        "val_dataset = CustomDataset(val_img_masks, transforms=transforms.Compose([Flip(),ToTensor()]))"
      ],
      "execution_count": 0,
      "outputs": []
    },
    {
      "cell_type": "markdown",
      "metadata": {
        "id": "I9ZEvQI2dqm-",
        "colab_type": "text"
      },
      "source": [
        "### [ TODO 3 ] Start training your network"
      ]
    },
    {
      "cell_type": "code",
      "metadata": {
        "id": "0X7Zv6nTdqm_",
        "colab_type": "code",
        "colab": {}
      },
      "source": [
        "################################################ [TODO] ###################################################\n",
        "# This function is used to evaluate the network after each epoch of training\n",
        "# Input: network and validation dataset\n",
        "# Output: average dice_coeff\n",
        "def eval_net(net, dataset):\n",
        "    # set net mode to evaluation\n",
        "    net.eval()\n",
        "    tot = 0\n",
        "    for i, b in enumerate(dataset):\n",
        "        img = b['img'].to(device)\n",
        "        B = img.shape[0]\n",
        "        true_mask = b['label'].to(device)\n",
        "        ################################################ [TODO] ################################################### \n",
        "        # Feed the image to network to get predicted mask\n",
        "        mask_pred = net(img)\n",
        "        mask_pred = nn.functional.interpolate(mask_pred, size = (80, 100), mode='bilinear')\n",
        "        \n",
        "        # For all pixels in predicted mask, set them to 1 if larger than 0.5. Otherwise set them to 0\n",
        "        mask_pred = (mask_pred > 0.5).float()\n",
        "        # calculate dice_coeff()\n",
        "        # note that you should add all the dice_coeff in validation/testing dataset together \n",
        "        # call dice_coeff() here\n",
        "        tot += dice_coeff(true_mask, mask_pred)\n",
        "        # Return average dice_coeff()\n",
        "    return tot / (i + 1)"
      ],
      "execution_count": 0,
      "outputs": []
    },
    {
      "cell_type": "code",
      "metadata": {
        "id": "2djfiIK5dqnD",
        "colab_type": "code",
        "colab": {
          "base_uri": "https://localhost:8080/",
          "height": 763
        },
        "outputId": "533c2d59-5695-46da-8998-e5917b534cab"
      },
      "source": [
        "################################################ [TODO] ###################################################\n",
        "# Create a UNET object from the class defined above. Input channels = 3, output channels = 1\n",
        "net = UNet(3, 1)\n",
        "net = net.to(device) #if using GPU\n",
        "# If continuing from previously saved model, use \n",
        "# net.load_state_dict(torch.load('PATH TO SAVED MODEL FILE'))\n",
        "print(net)\n",
        "\n",
        "# This shows the number of parameters in the network\n",
        "n_params = sum(p.numel() for p in net.parameters() if p.requires_grad)\n",
        "print('Number of parameters in network: ', n_params)"
      ],
      "execution_count": 40,
      "outputs": [
        {
          "output_type": "stream",
          "text": [
            "UNet(\n",
            "  (conv1): single_conv(\n",
            "    (conv): Conv2d(3, 16, kernel_size=(3, 3), stride=(1, 1), padding=(1, 1))\n",
            "    (bn): BatchNorm2d(16, eps=1e-05, momentum=0.1, affine=True, track_running_stats=True)\n",
            "    (relu): ReLU()\n",
            "  )\n",
            "  (downSampled1): down(\n",
            "    (down): MaxPool2d(kernel_size=2, stride=2, padding=0, dilation=1, ceil_mode=False)\n",
            "  )\n",
            "  (conv2): single_conv(\n",
            "    (conv): Conv2d(16, 32, kernel_size=(3, 3), stride=(1, 1), padding=(1, 1))\n",
            "    (bn): BatchNorm2d(32, eps=1e-05, momentum=0.1, affine=True, track_running_stats=True)\n",
            "    (relu): ReLU()\n",
            "  )\n",
            "  (downSampled2): down(\n",
            "    (down): MaxPool2d(kernel_size=2, stride=2, padding=0, dilation=1, ceil_mode=False)\n",
            "  )\n",
            "  (conv3): single_conv(\n",
            "    (conv): Conv2d(32, 32, kernel_size=(3, 3), stride=(1, 1), padding=(1, 1))\n",
            "    (bn): BatchNorm2d(32, eps=1e-05, momentum=0.1, affine=True, track_running_stats=True)\n",
            "    (relu): ReLU()\n",
            "  )\n",
            "  (upSampled1): up(\n",
            "    (up): Upsample(scale_factor=2.0, mode=bilinear)\n",
            "  )\n",
            "  (conv4): single_conv(\n",
            "    (conv): Conv2d(64, 16, kernel_size=(3, 3), stride=(1, 1), padding=(1, 1))\n",
            "    (bn): BatchNorm2d(16, eps=1e-05, momentum=0.1, affine=True, track_running_stats=True)\n",
            "    (relu): ReLU()\n",
            "  )\n",
            "  (upSampled2): up(\n",
            "    (up): Upsample(scale_factor=2.0, mode=bilinear)\n",
            "  )\n",
            "  (conv5): single_conv(\n",
            "    (conv): Conv2d(32, 16, kernel_size=(3, 3), stride=(1, 1), padding=(1, 1))\n",
            "    (bn): BatchNorm2d(16, eps=1e-05, momentum=0.1, affine=True, track_running_stats=True)\n",
            "    (relu): ReLU()\n",
            "  )\n",
            "  (conv6): outconv(\n",
            "    (conv): Conv2d(16, 1, kernel_size=(2, 2), stride=(1, 1), padding=(1, 1))\n",
            "  )\n",
            ")\n",
            "Number of parameters in network:  28481\n"
          ],
          "name": "stdout"
        }
      ]
    },
    {
      "cell_type": "code",
      "metadata": {
        "id": "wJgSm5ZcdqnI",
        "colab_type": "code",
        "colab": {}
      },
      "source": [
        "################################################ [TODO] ###################################################\n",
        "# Specify number of epochs, image scale factor, batch size and learning rate\n",
        "epochs =   5       # e.g. 10, or more until dice converge\n",
        "batch_size = 8    # e.g. 16\n",
        "lr =  0.01           # e.g. 0.01\n",
        "N_train = len(train_img_masks)\n",
        "model_save_path = './model/'  # directory to same the model after each epoch. \n",
        "\n",
        "################################################ [TODO] ###################################################\n",
        "# Define an optimizer for your model.\n",
        "# Pytorch has built-in package called optim. Most commonly used methods are already supported.\n",
        "# Here we use stochastic gradient descent to optimize\n",
        "# For usage of SGD, you can read https://pytorch.org/docs/stable/_modules/torch/optim/sgd.html\n",
        "# Also you can use ADAM as the optimizer\n",
        "# For usage of ADAM, you can read https://www.programcreek.com/python/example/92667/torch.optim.Adam\n",
        "\n",
        "optimizer = torch.optim.SGD(net.parameters(), lr=lr, momentum=0.9,weight_decay = 0.0005 )\n",
        "#suggested parameter settings: momentum=0.9, weight_decay=0.0005\n",
        "\n",
        "# The loss function we use is binary cross entropy: nn.BCELoss()\n",
        "criterion = nn.BCELoss()\n",
        "# note that although we want to use DICE for evaluation, we use BCELoss for training in this example\n",
        "\n",
        "################################################ [TODO] ###################################################\n",
        "# Start training  #This part takes very long time to run if using CPU\n",
        "for epoch in range(epochs):\n",
        "    print('Starting epoch {}/{}.'.format(epoch + 1, epochs))\n",
        "    net.train()\n",
        "    # Reload images and masks for training and validation and perform random shuffling at the begining of each epoch\n",
        "    train_loader = torch.utils.data.DataLoader(train_dataset, batch_size=batch_size, shuffle=True, num_workers=0)\n",
        "    val_loader = torch.utils.data.DataLoader(val_dataset, batch_size=batch_size, shuffle=True, num_workers=0)\n",
        "    \n",
        "    epoch_loss = 0\n",
        "    count = 0\n",
        "    for i, b in enumerate(train_loader):\n",
        "        ################################################ [TODO] ###################################################\n",
        "        # Get images and masks from each batch\n",
        "        \n",
        "        imgs = b['img'].to(device)\n",
        "        true_masks = b['label'].to(device)\n",
        "\n",
        "        ################################################ [TODO] ###################################################\n",
        "        # Feed your images into the network\n",
        "        \n",
        "        masks_pred = net(imgs)\n",
        "        masks_pred = nn.functional.interpolate(masks_pred, size=(80,100), mode='bilinear')\n",
        "        # Flatten the predicted masks and true masks. For example, A_flat = A.view(-1)\n",
        "        masks_probs_flat = masks_pred.view(-1)\n",
        "        true_masks_flat = true_masks.view(-1)\n",
        "        ################################################ [TODO] ###################################################\n",
        "        # Calculate the loss by comparing the predicted masks vector and true masks vector\n",
        "        # And sum the losses together \n",
        "        loss = criterion(masks_probs_flat, true_masks_flat)\n",
        "        epoch_loss += loss.item()\n",
        "        if count % 20 == 0:  #Print status every 20 batch\n",
        "            print('{0:.4f} --- loss: {1:.6f}'.format(i * batch_size / N_train, loss.item())) \n",
        "        count = count + 1\n",
        "        # optimizer.zero_grad() clears x.grad for every parameter x in the optimizer. \n",
        "        # It’s important to call this before loss.backward(), otherwise you’ll accumulate the gradients from multiple passes.\n",
        "        optimizer.zero_grad()\n",
        "        # loss.backward() computes dloss/dx for every parameter x which has requires_grad=True. \n",
        "        # These are accumulated into x.grad for every parameter x\n",
        "        loss.backward()\n",
        "        # optimizer.step updates the value of x using the gradient x.grad. \n",
        "        optimizer.step()\n",
        "        \n",
        "    print('Epoch finished ! Loss: {}'.format(epoch_loss / i))\n",
        "    ################################################ [TODO] ###################################################\n",
        "    # Perform validation with eval_net() on the validation data\n",
        "    val_dice = eval_net(net, val_loader)\n",
        "    print('Validation Dice Coeff: {}'.format(val_dice))\n",
        "    \n",
        "    # Save the model after each epoch\n",
        "    if os.path.isdir(model_save_path):\n",
        "        torch.save(net.state_dict(),model_save_path + 'Car_Seg_Epoch{}.pth'.format(epoch + 1))\n",
        "    else:\n",
        "        os.makedirs(model_save_path, exist_ok=True)\n",
        "        torch.save(net.state_dict(),model_save_path + 'Car_Seg_Epoch{}.pth'.format(epoch + 1))\n",
        "    print('Checkpoint {} saved !'.format(epoch + 1))\n",
        "\n",
        "    "
      ],
      "execution_count": 0,
      "outputs": []
    },
    {
      "cell_type": "code",
      "metadata": {
        "id": "MkIy_KoldqnR",
        "colab_type": "code",
        "colab": {
          "base_uri": "https://localhost:8080/",
          "height": 416
        },
        "outputId": "fe57dcbe-c89c-4cad-ac62-de6abd298275"
      },
      "source": [
        "train_loader = torch.utils.data.DataLoader(train_dataset, batch_size=batch_size, shuffle=True, num_workers=0)\n"
      ],
      "execution_count": 64,
      "outputs": [
        {
          "output_type": "execute_result",
          "data": {
            "text/plain": [
              "tensor([[[[0.9490, 0.9490, 0.9490,  ..., 0.9490, 0.9490, 0.9569],\n",
              "          [0.9490, 0.9490, 0.9490,  ..., 0.9490, 0.9490, 0.9569],\n",
              "          [0.9490, 0.9490, 0.9490,  ..., 0.9490, 0.9490, 0.9569],\n",
              "          ...,\n",
              "          [0.6869, 0.6006, 0.3875,  ..., 0.9895, 0.9845, 0.9884],\n",
              "          [0.7000, 0.6969, 0.3426,  ..., 0.5960, 0.4932, 0.5328],\n",
              "          [0.7021, 0.6711, 0.5853,  ..., 0.2702, 0.4189, 0.5417]],\n",
              "\n",
              "         [[0.9529, 0.9529, 0.9529,  ..., 0.9490, 0.9490, 0.9569],\n",
              "          [0.9529, 0.9529, 0.9529,  ..., 0.9490, 0.9490, 0.9569],\n",
              "          [0.9529, 0.9529, 0.9529,  ..., 0.9490, 0.9490, 0.9569],\n",
              "          ...,\n",
              "          [0.4689, 0.3776, 0.2306,  ..., 0.9444, 0.9374, 0.9413],\n",
              "          [0.4608, 0.4734, 0.1979,  ..., 0.5165, 0.4706, 0.5107],\n",
              "          [0.4629, 0.4437, 0.3816,  ..., 0.1541, 0.2954, 0.5116]],\n",
              "\n",
              "         [[0.9333, 0.9333, 0.9333,  ..., 0.9490, 0.9490, 0.9569],\n",
              "          [0.9333, 0.9333, 0.9333,  ..., 0.9490, 0.9490, 0.9569],\n",
              "          [0.9333, 0.9333, 0.9333,  ..., 0.9490, 0.9490, 0.9569],\n",
              "          ...,\n",
              "          [0.2623, 0.2183, 0.1234,  ..., 0.8581, 0.8511, 0.8550],\n",
              "          [0.2765, 0.2969, 0.1011,  ..., 0.4456, 0.4442, 0.4599],\n",
              "          [0.2786, 0.2887, 0.2293,  ..., 0.1479, 0.2687, 0.5374]]]])"
            ]
          },
          "metadata": {
            "tags": []
          },
          "execution_count": 64
        }
      ]
    },
    {
      "cell_type": "markdown",
      "metadata": {
        "id": "u12QgXYvdqnU",
        "colab_type": "text"
      },
      "source": [
        "### [ TODO 4 ] load one image from testing dataset and plot output mask"
      ]
    },
    {
      "cell_type": "code",
      "metadata": {
        "id": "XtHSICEkdqnV",
        "colab_type": "code",
        "colab": {}
      },
      "source": [
        "################################################ [TODO] ###################################################\n",
        "# Define a function for prediction/testing\n",
        "def predict_img(net,full_img,out_threshold=0.5):\n",
        "    # set the mode of your network to evaluation\n",
        "    net.eval()\n",
        "    \n",
        "    # convert from Height*Width*Channel TO Channel*Height*Width\n",
        "    full_img = np.moveaxis(full_img, -1, 0)\n",
        "    \n",
        "    # convert numpy array to torch tensor, normalize to range (0,1)\n",
        "    X_img = torch.from_numpy(full_img)/255.0\n",
        "    X_img = X_img.unsqueeze(0).to(device)\n",
        "    \n",
        "    with torch.no_grad():\n",
        "        ################################################ [TODO] ###################################################\n",
        "        # predict the masks \n",
        "        output_img = net(X_img)\n",
        "        out_probs = output_img.squeeze(0).squeeze(0)\n",
        "        # threshold the probability to generate mask: mask=1 if prob > out_threshold\n",
        "        # change back to numpy, set to uint8 \n",
        "        out_mask_np = (out_probs > out_threshold).float()\n",
        "        if torch.cuda.is_available():\n",
        "            out_mask_np = out_mask_np.cpu()\n",
        "        out_mask_np = out_mask_np.numpy().astype('uint8')\n",
        "        \n",
        "    return out_mask_np\n"
      ],
      "execution_count": 0,
      "outputs": []
    },
    {
      "cell_type": "code",
      "metadata": {
        "id": "F413cD62dqna",
        "colab_type": "code",
        "colab": {
          "base_uri": "https://localhost:8080/",
          "height": 72
        },
        "outputId": "d09f827f-7e1d-4749-9ac0-f677a3530e14"
      },
      "source": [
        "################################################ [TODO] ###################################################\n",
        "# Load an image from testing dataset\n",
        "test_img_paths = glob.glob(\"test/*.jpg\")\n",
        "test_img = np.array(Image.open(test_img_paths[0]))\n",
        "\n",
        "orig_shape = test_img.shape\n",
        "\n",
        "# Resize image to (80,100)\n",
        "img_resize = cv2.resize(test_img,(80, 100), cv2.INTER_AREA )\n",
        "################################################ [TODO] ###################################################\n",
        "# Predict the mask\n",
        "mask = predict_img(net, img_resize)\n",
        "# Rescale the mask back to original image size\n",
        "mask =  cv2.resize(np.array(mask), (orig_shape[1], orig_shape[0]), cv2.INTER_AREA )\n"
      ],
      "execution_count": 58,
      "outputs": [
        {
          "output_type": "stream",
          "text": [
            "/usr/local/lib/python3.6/dist-packages/torch/nn/functional.py:2506: UserWarning: Default upsampling behavior when mode=bilinear is changed to align_corners=False since 0.4.0. Please specify align_corners=True if the old behavior is desired. See the documentation of nn.Upsample for details.\n",
            "  \"See the documentation of nn.Upsample for details.\".format(mode))\n"
          ],
          "name": "stderr"
        }
      ]
    },
    {
      "cell_type": "code",
      "metadata": {
        "id": "YQRDmU8Xdqne",
        "colab_type": "code",
        "colab": {}
      },
      "source": [
        "## Extract the car from the image using the predicted mask\n",
        "test_img = np.array(Image.open(test_img_paths[0]))\n",
        "masked_img_seg = test_img.copy()\n",
        "for i in range(3):\n",
        "    masked_img_seg[:, :, i] =  test_img[:, :, i] * mask"
      ],
      "execution_count": 0,
      "outputs": []
    },
    {
      "cell_type": "markdown",
      "metadata": {
        "id": "7n9qws8ydqnh",
        "colab_type": "text"
      },
      "source": [
        "### Plot original image and mask image"
      ]
    },
    {
      "cell_type": "code",
      "metadata": {
        "id": "mOrW_GFLdqnq",
        "colab_type": "code",
        "colab": {
          "base_uri": "https://localhost:8080/",
          "height": 191
        },
        "outputId": "bfd52e2e-5dec-43db-abfe-d4c064d1618f"
      },
      "source": [
        "################################################ [TODO] ###################################################\n",
        "# Plot original images and masks and segmented part\n",
        "plt.figure(figsize = (10,30))\n",
        "plt.subplot(1,3,1)\n",
        "plt.imshow(test_img)\n",
        "plt.title('Image')\n",
        "plt.subplot(1,3,2)\n",
        "plt.imshow(mask, cmap = 'gray')\n",
        "plt.title('Mask')\n",
        "plt.subplot(1,3,3)\n",
        "plt.imshow(masked_img_seg)\n",
        "plt.title('Car')"
      ],
      "execution_count": 54,
      "outputs": [
        {
          "output_type": "execute_result",
          "data": {
            "text/plain": [
              "Text(0.5, 1.0, 'Car')"
            ]
          },
          "metadata": {
            "tags": []
          },
          "execution_count": 54
        },
        {
          "output_type": "display_data",
          "data": {
            "image/png": "[encoded data removed]",
            "text/plain": [
              "<Figure size 720x2160 with 3 Axes>"
            ]
          },
          "metadata": {
            "tags": [],
            "needs_background": "light"
          }
        }
      ]
    },
    {
      "cell_type": "code",
      "metadata": {
        "scrolled": false,
        "id": "jdUHh_RLdqnt",
        "colab_type": "code",
        "colab": {}
      },
      "source": [
        "################################################ [TODO] ###################################################\n",
        "# Display ten more of test samples\n",
        "for i in range(10):\n",
        "    "
      ],
      "execution_count": 0,
      "outputs": []
    },
    {
      "cell_type": "code",
      "metadata": {
        "id": "dnb5YxTOdqnx",
        "colab_type": "code",
        "colab": {}
      },
      "source": [
        ""
      ],
      "execution_count": 0,
      "outputs": []
    },
    {
      "cell_type": "code",
      "metadata": {
        "id": "n_i4JMJzdqn0",
        "colab_type": "code",
        "colab": {}
      },
      "source": [
        ""
      ],
      "execution_count": 0,
      "outputs": []
    }
  ]
}